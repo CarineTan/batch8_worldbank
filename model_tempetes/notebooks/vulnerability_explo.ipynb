{
 "cells": [
  {
   "cell_type": "code",
   "execution_count": 38,
   "metadata": {},
   "outputs": [],
   "source": [
    "import pandas as pd\n",
    "import matplotlib.pyplot as plt\n",
    "import seaborn as sns\n",
    "import statsmodels.api as sm"
   ]
  },
  {
   "cell_type": "markdown",
   "metadata": {},
   "source": [
    "# Import Risk INFORM index"
   ]
  },
  {
   "cell_type": "code",
   "execution_count": 3,
   "metadata": {},
   "outputs": [],
   "source": [
    "path = \"C:\\\\batch8_worldbank\\\\datasets\\\\tempetes\\\\INFORM_Risk_2021.xlsx\""
   ]
  },
  {
   "cell_type": "code",
   "execution_count": 5,
   "metadata": {},
   "outputs": [
    {
     "data": {
      "text/plain": [
       "['Home',\n",
       " 'Table of Contents',\n",
       " 'INFORM Risk 2021 (a-z)',\n",
       " 'Hazard & Exposure',\n",
       " 'Vulnerability',\n",
       " 'Lack of Coping Capacity',\n",
       " 'Indicator Data',\n",
       " 'Indicator Date',\n",
       " 'Indicator Date hidden',\n",
       " 'Indicator Date hidden2',\n",
       " 'Indicator Source',\n",
       " 'Indicator Data imputation',\n",
       " 'Imputed and missing data hidden',\n",
       " 'Lack of Reliability Index',\n",
       " 'Indicator Metadata',\n",
       " 'Regions']"
      ]
     },
     "execution_count": 5,
     "metadata": {},
     "output_type": "execute_result"
    }
   ],
   "source": [
    "xl = pd.ExcelFile(path)\n",
    "xl.sheet_names"
   ]
  },
  {
   "cell_type": "code",
   "execution_count": 9,
   "metadata": {},
   "outputs": [
    {
     "data": {
      "text/html": [
       "<div>\n",
       "<style scoped>\n",
       "    .dataframe tbody tr th:only-of-type {\n",
       "        vertical-align: middle;\n",
       "    }\n",
       "\n",
       "    .dataframe tbody tr th {\n",
       "        vertical-align: top;\n",
       "    }\n",
       "\n",
       "    .dataframe thead th {\n",
       "        text-align: right;\n",
       "    }\n",
       "</style>\n",
       "<table border=\"1\" class=\"dataframe\">\n",
       "  <thead>\n",
       "    <tr style=\"text-align: right;\">\n",
       "      <th></th>\n",
       "      <th>COUNTRY</th>\n",
       "      <th>ISO3</th>\n",
       "      <th>Earthquake</th>\n",
       "      <th>Flood</th>\n",
       "      <th>Tsunami</th>\n",
       "      <th>Tropical Cyclone</th>\n",
       "      <th>Drought</th>\n",
       "      <th>Epidemic</th>\n",
       "      <th>Natural</th>\n",
       "      <th>Projected Conflict Risk</th>\n",
       "      <th>...</th>\n",
       "      <th>Infrastructure</th>\n",
       "      <th>LACK OF COPING CAPACITY</th>\n",
       "      <th>INFORM RISK</th>\n",
       "      <th>RISK CLASS</th>\n",
       "      <th>Rank</th>\n",
       "      <th>Lack of Reliability (*)</th>\n",
       "      <th>Number of Missing Indicators</th>\n",
       "      <th>% of Missing Indicators</th>\n",
       "      <th>Countries in HVC</th>\n",
       "      <th>Recentness data (average years)</th>\n",
       "    </tr>\n",
       "  </thead>\n",
       "  <tbody>\n",
       "    <tr>\n",
       "      <td>2</td>\n",
       "      <td>Afghanistan</td>\n",
       "      <td>AFG</td>\n",
       "      <td>9.7</td>\n",
       "      <td>7.2</td>\n",
       "      <td>0</td>\n",
       "      <td>0</td>\n",
       "      <td>8.4</td>\n",
       "      <td>6.9</td>\n",
       "      <td>6.7</td>\n",
       "      <td>10</td>\n",
       "      <td>...</td>\n",
       "      <td>7.3</td>\n",
       "      <td>7.3</td>\n",
       "      <td>8.1</td>\n",
       "      <td>Very High</td>\n",
       "      <td>2</td>\n",
       "      <td>2.77477</td>\n",
       "      <td>4</td>\n",
       "      <td>0.0784314</td>\n",
       "      <td>YES</td>\n",
       "      <td>0.216216</td>\n",
       "    </tr>\n",
       "    <tr>\n",
       "      <td>3</td>\n",
       "      <td>Albania</td>\n",
       "      <td>ALB</td>\n",
       "      <td>9.3</td>\n",
       "      <td>4.7</td>\n",
       "      <td>7.8</td>\n",
       "      <td>0</td>\n",
       "      <td>6.9</td>\n",
       "      <td>4.8</td>\n",
       "      <td>6.4</td>\n",
       "      <td>0.9</td>\n",
       "      <td>...</td>\n",
       "      <td>2.1</td>\n",
       "      <td>4.1</td>\n",
       "      <td>2.9</td>\n",
       "      <td>Low</td>\n",
       "      <td>120</td>\n",
       "      <td>3.68627</td>\n",
       "      <td>10</td>\n",
       "      <td>0.196078</td>\n",
       "      <td>NaN</td>\n",
       "      <td>0.191176</td>\n",
       "    </tr>\n",
       "    <tr>\n",
       "      <td>4</td>\n",
       "      <td>Algeria</td>\n",
       "      <td>DZA</td>\n",
       "      <td>8.8</td>\n",
       "      <td>5.2</td>\n",
       "      <td>4.6</td>\n",
       "      <td>0</td>\n",
       "      <td>2.3</td>\n",
       "      <td>3.4</td>\n",
       "      <td>4.7</td>\n",
       "      <td>6.8</td>\n",
       "      <td>...</td>\n",
       "      <td>3.8</td>\n",
       "      <td>4.4</td>\n",
       "      <td>3.9</td>\n",
       "      <td>Medium</td>\n",
       "      <td>84</td>\n",
       "      <td>2.82963</td>\n",
       "      <td>2</td>\n",
       "      <td>0.0392157</td>\n",
       "      <td>NaN</td>\n",
       "      <td>0.430556</td>\n",
       "    </tr>\n",
       "    <tr>\n",
       "      <td>5</td>\n",
       "      <td>Angola</td>\n",
       "      <td>AGO</td>\n",
       "      <td>0.1</td>\n",
       "      <td>5.1</td>\n",
       "      <td>0</td>\n",
       "      <td>0</td>\n",
       "      <td>3.7</td>\n",
       "      <td>6.6</td>\n",
       "      <td>3.1</td>\n",
       "      <td>5.5</td>\n",
       "      <td>...</td>\n",
       "      <td>7.5</td>\n",
       "      <td>6.9</td>\n",
       "      <td>5</td>\n",
       "      <td>High</td>\n",
       "      <td>47</td>\n",
       "      <td>1.44144</td>\n",
       "      <td>0</td>\n",
       "      <td>0</td>\n",
       "      <td>NaN</td>\n",
       "      <td>0.27027</td>\n",
       "    </tr>\n",
       "    <tr>\n",
       "      <td>6</td>\n",
       "      <td>Antigua and Barbuda</td>\n",
       "      <td>ATG</td>\n",
       "      <td>5.2</td>\n",
       "      <td>0.1</td>\n",
       "      <td>0</td>\n",
       "      <td>8.4</td>\n",
       "      <td>0</td>\n",
       "      <td>3.5</td>\n",
       "      <td>3.7</td>\n",
       "      <td>0</td>\n",
       "      <td>...</td>\n",
       "      <td>1.4</td>\n",
       "      <td>3.5</td>\n",
       "      <td>2.2</td>\n",
       "      <td>Low</td>\n",
       "      <td>147</td>\n",
       "      <td>4.94624</td>\n",
       "      <td>19</td>\n",
       "      <td>0.372549</td>\n",
       "      <td>NaN</td>\n",
       "      <td>0.177419</td>\n",
       "    </tr>\n",
       "  </tbody>\n",
       "</table>\n",
       "<p>5 rows × 41 columns</p>\n",
       "</div>"
      ],
      "text/plain": [
       "0              COUNTRY ISO3 Earthquake Flood Tsunami Tropical Cyclone Drought  \\\n",
       "2          Afghanistan  AFG        9.7   7.2       0                0     8.4   \n",
       "3              Albania  ALB        9.3   4.7     7.8                0     6.9   \n",
       "4              Algeria  DZA        8.8   5.2     4.6                0     2.3   \n",
       "5               Angola  AGO        0.1   5.1       0                0     3.7   \n",
       "6  Antigua and Barbuda  ATG        5.2   0.1       0              8.4       0   \n",
       "\n",
       "0 Epidemic Natural Projected Conflict Risk  ... Infrastructure  \\\n",
       "2      6.9     6.7                      10  ...            7.3   \n",
       "3      4.8     6.4                     0.9  ...            2.1   \n",
       "4      3.4     4.7                     6.8  ...            3.8   \n",
       "5      6.6     3.1                     5.5  ...            7.5   \n",
       "6      3.5     3.7                       0  ...            1.4   \n",
       "\n",
       "0 LACK OF COPING CAPACITY INFORM RISK RISK CLASS Rank Lack of Reliability (*)  \\\n",
       "2                     7.3         8.1  Very High    2                 2.77477   \n",
       "3                     4.1         2.9        Low  120                 3.68627   \n",
       "4                     4.4         3.9     Medium   84                 2.82963   \n",
       "5                     6.9           5       High   47                 1.44144   \n",
       "6                     3.5         2.2        Low  147                 4.94624   \n",
       "\n",
       "0 Number of Missing Indicators % of Missing Indicators Countries in HVC  \\\n",
       "2                            4               0.0784314              YES   \n",
       "3                           10                0.196078              NaN   \n",
       "4                            2               0.0392157              NaN   \n",
       "5                            0                       0              NaN   \n",
       "6                           19                0.372549              NaN   \n",
       "\n",
       "0 Recentness data (average years)  \n",
       "2                        0.216216  \n",
       "3                        0.191176  \n",
       "4                        0.430556  \n",
       "5                         0.27027  \n",
       "6                        0.177419  \n",
       "\n",
       "[5 rows x 41 columns]"
      ]
     },
     "execution_count": 9,
     "metadata": {},
     "output_type": "execute_result"
    }
   ],
   "source": [
    "inform_df = xl.parse(xl.sheet_names[2])\n",
    "inform_df.columns = inform_df.iloc[0]\n",
    "inform_df = inform_df[2:]\n",
    "inform_df.head()"
   ]
  },
  {
   "cell_type": "markdown",
   "metadata": {},
   "source": [
    "# Import emdat"
   ]
  },
  {
   "cell_type": "code",
   "execution_count": 11,
   "metadata": {},
   "outputs": [],
   "source": [
    "path = \"C:\\\\batch8_worldbank\\\\datasets\\\\tempetes\\\\wb_disasters_bdd.xlsx\""
   ]
  },
  {
   "cell_type": "code",
   "execution_count": 12,
   "metadata": {},
   "outputs": [
    {
     "data": {
      "text/html": [
       "<div>\n",
       "<style scoped>\n",
       "    .dataframe tbody tr th:only-of-type {\n",
       "        vertical-align: middle;\n",
       "    }\n",
       "\n",
       "    .dataframe tbody tr th {\n",
       "        vertical-align: top;\n",
       "    }\n",
       "\n",
       "    .dataframe thead th {\n",
       "        text-align: right;\n",
       "    }\n",
       "</style>\n",
       "<table border=\"1\" class=\"dataframe\">\n",
       "  <thead>\n",
       "    <tr style=\"text-align: right;\">\n",
       "      <th></th>\n",
       "      <th>Dis No</th>\n",
       "      <th>Year</th>\n",
       "      <th>Seq</th>\n",
       "      <th>Disaster Group</th>\n",
       "      <th>Disaster Subgroup</th>\n",
       "      <th>Disaster Type</th>\n",
       "      <th>Disaster Subtype</th>\n",
       "      <th>Disaster Subsubtype</th>\n",
       "      <th>Event Name</th>\n",
       "      <th>Entry Criteria</th>\n",
       "      <th>...</th>\n",
       "      <th>End Day</th>\n",
       "      <th>Total Deaths</th>\n",
       "      <th>No Injured</th>\n",
       "      <th>No Affected</th>\n",
       "      <th>No Homeless</th>\n",
       "      <th>Total Affected</th>\n",
       "      <th>Reconstruction Costs ('000 US$)</th>\n",
       "      <th>Insured Damages ('000 US$)</th>\n",
       "      <th>Total Damages ('000 US$)</th>\n",
       "      <th>CPI</th>\n",
       "    </tr>\n",
       "  </thead>\n",
       "  <tbody>\n",
       "    <tr>\n",
       "      <td>0</td>\n",
       "      <td>1900-9002-CPV</td>\n",
       "      <td>1900</td>\n",
       "      <td>9002</td>\n",
       "      <td>Natural</td>\n",
       "      <td>Climatological</td>\n",
       "      <td>Drought</td>\n",
       "      <td>Drought</td>\n",
       "      <td>NaN</td>\n",
       "      <td>NaN</td>\n",
       "      <td>NaN</td>\n",
       "      <td>...</td>\n",
       "      <td>NaN</td>\n",
       "      <td>11000.0</td>\n",
       "      <td>NaN</td>\n",
       "      <td>NaN</td>\n",
       "      <td>NaN</td>\n",
       "      <td>NaN</td>\n",
       "      <td>NaN</td>\n",
       "      <td>NaN</td>\n",
       "      <td>NaN</td>\n",
       "      <td>3.261389</td>\n",
       "    </tr>\n",
       "    <tr>\n",
       "      <td>1</td>\n",
       "      <td>1900-9001-IND</td>\n",
       "      <td>1900</td>\n",
       "      <td>9001</td>\n",
       "      <td>Natural</td>\n",
       "      <td>Climatological</td>\n",
       "      <td>Drought</td>\n",
       "      <td>Drought</td>\n",
       "      <td>NaN</td>\n",
       "      <td>NaN</td>\n",
       "      <td>NaN</td>\n",
       "      <td>...</td>\n",
       "      <td>NaN</td>\n",
       "      <td>1250000.0</td>\n",
       "      <td>NaN</td>\n",
       "      <td>NaN</td>\n",
       "      <td>NaN</td>\n",
       "      <td>NaN</td>\n",
       "      <td>NaN</td>\n",
       "      <td>NaN</td>\n",
       "      <td>NaN</td>\n",
       "      <td>3.261389</td>\n",
       "    </tr>\n",
       "    <tr>\n",
       "      <td>2</td>\n",
       "      <td>1904-0003-BGD</td>\n",
       "      <td>1904</td>\n",
       "      <td>3</td>\n",
       "      <td>Natural</td>\n",
       "      <td>Meteorological</td>\n",
       "      <td>Storm</td>\n",
       "      <td>Tropical cyclone</td>\n",
       "      <td>NaN</td>\n",
       "      <td>NaN</td>\n",
       "      <td>OFDA</td>\n",
       "      <td>...</td>\n",
       "      <td>NaN</td>\n",
       "      <td>NaN</td>\n",
       "      <td>NaN</td>\n",
       "      <td>NaN</td>\n",
       "      <td>NaN</td>\n",
       "      <td>NaN</td>\n",
       "      <td>NaN</td>\n",
       "      <td>NaN</td>\n",
       "      <td>NaN</td>\n",
       "      <td>3.522300</td>\n",
       "    </tr>\n",
       "    <tr>\n",
       "      <td>3</td>\n",
       "      <td>1906-0023-BEL</td>\n",
       "      <td>1906</td>\n",
       "      <td>23</td>\n",
       "      <td>Natural</td>\n",
       "      <td>Hydrological</td>\n",
       "      <td>Flood</td>\n",
       "      <td>NaN</td>\n",
       "      <td>NaN</td>\n",
       "      <td>NaN</td>\n",
       "      <td>Govern</td>\n",
       "      <td>...</td>\n",
       "      <td>14.0</td>\n",
       "      <td>6.0</td>\n",
       "      <td>NaN</td>\n",
       "      <td>NaN</td>\n",
       "      <td>NaN</td>\n",
       "      <td>NaN</td>\n",
       "      <td>NaN</td>\n",
       "      <td>NaN</td>\n",
       "      <td>NaN</td>\n",
       "      <td>3.522300</td>\n",
       "    </tr>\n",
       "    <tr>\n",
       "      <td>4</td>\n",
       "      <td>1906-0024-BEL</td>\n",
       "      <td>1906</td>\n",
       "      <td>24</td>\n",
       "      <td>Natural</td>\n",
       "      <td>Hydrological</td>\n",
       "      <td>Flood</td>\n",
       "      <td>NaN</td>\n",
       "      <td>NaN</td>\n",
       "      <td>NaN</td>\n",
       "      <td>Govern</td>\n",
       "      <td>...</td>\n",
       "      <td>NaN</td>\n",
       "      <td>NaN</td>\n",
       "      <td>NaN</td>\n",
       "      <td>NaN</td>\n",
       "      <td>NaN</td>\n",
       "      <td>NaN</td>\n",
       "      <td>NaN</td>\n",
       "      <td>NaN</td>\n",
       "      <td>NaN</td>\n",
       "      <td>3.522300</td>\n",
       "    </tr>\n",
       "  </tbody>\n",
       "</table>\n",
       "<p>5 rows × 43 columns</p>\n",
       "</div>"
      ],
      "text/plain": [
       "          Dis No  Year   Seq Disaster Group Disaster Subgroup Disaster Type  \\\n",
       "0  1900-9002-CPV  1900  9002        Natural    Climatological       Drought   \n",
       "1  1900-9001-IND  1900  9001        Natural    Climatological       Drought   \n",
       "2  1904-0003-BGD  1904     3        Natural    Meteorological         Storm   \n",
       "3  1906-0023-BEL  1906    23        Natural      Hydrological         Flood   \n",
       "4  1906-0024-BEL  1906    24        Natural      Hydrological         Flood   \n",
       "\n",
       "   Disaster Subtype Disaster Subsubtype Event Name Entry Criteria  ...  \\\n",
       "0           Drought                 NaN        NaN            NaN  ...   \n",
       "1           Drought                 NaN        NaN            NaN  ...   \n",
       "2  Tropical cyclone                 NaN        NaN           OFDA  ...   \n",
       "3               NaN                 NaN        NaN         Govern  ...   \n",
       "4               NaN                 NaN        NaN         Govern  ...   \n",
       "\n",
       "  End Day Total Deaths No Injured No Affected No Homeless Total Affected  \\\n",
       "0     NaN      11000.0        NaN         NaN         NaN            NaN   \n",
       "1     NaN    1250000.0        NaN         NaN         NaN            NaN   \n",
       "2     NaN          NaN        NaN         NaN         NaN            NaN   \n",
       "3    14.0          6.0        NaN         NaN         NaN            NaN   \n",
       "4     NaN          NaN        NaN         NaN         NaN            NaN   \n",
       "\n",
       "  Reconstruction Costs ('000 US$) Insured Damages ('000 US$)  \\\n",
       "0                             NaN                        NaN   \n",
       "1                             NaN                        NaN   \n",
       "2                             NaN                        NaN   \n",
       "3                             NaN                        NaN   \n",
       "4                             NaN                        NaN   \n",
       "\n",
       "  Total Damages ('000 US$)       CPI  \n",
       "0                      NaN  3.261389  \n",
       "1                      NaN  3.261389  \n",
       "2                      NaN  3.522300  \n",
       "3                      NaN  3.522300  \n",
       "4                      NaN  3.522300  \n",
       "\n",
       "[5 rows x 43 columns]"
      ]
     },
     "execution_count": 12,
     "metadata": {},
     "output_type": "execute_result"
    }
   ],
   "source": [
    "disasters_df = pd.read_excel(path)\n",
    "disasters_df.head()"
   ]
  },
  {
   "cell_type": "code",
   "execution_count": 13,
   "metadata": {},
   "outputs": [
    {
     "data": {
      "text/plain": [
       "0        CPV\n",
       "1        IND\n",
       "2        BGD\n",
       "3        BEL\n",
       "4        BEL\n",
       "        ... \n",
       "10944    YEM\n",
       "10945    YEM\n",
       "10946    YEM\n",
       "10947    COD\n",
       "10948    TLS\n",
       "Name: ISO, Length: 10949, dtype: object"
      ]
     },
     "execution_count": 13,
     "metadata": {},
     "output_type": "execute_result"
    }
   ],
   "source": [
    "disasters_df['ISO']"
   ]
  },
  {
   "cell_type": "code",
   "execution_count": 14,
   "metadata": {},
   "outputs": [
    {
     "data": {
      "text/plain": [
       "2020"
      ]
     },
     "execution_count": 14,
     "metadata": {},
     "output_type": "execute_result"
    }
   ],
   "source": [
    "max(disasters_df['Year'])"
   ]
  },
  {
   "cell_type": "markdown",
   "metadata": {},
   "source": [
    "# Filter on storms"
   ]
  },
  {
   "cell_type": "code",
   "execution_count": 15,
   "metadata": {},
   "outputs": [],
   "source": [
    "storms_df = disasters_df[disasters_df[\"Disaster Type\"]==\"Storm\"]"
   ]
  },
  {
   "cell_type": "markdown",
   "metadata": {},
   "source": [
    "# Number of storms, nb people affected and total damages by country by decade"
   ]
  },
  {
   "cell_type": "code",
   "execution_count": 16,
   "metadata": {},
   "outputs": [],
   "source": [
    "nb_storms_by_year_by_country = storms_df.groupby([\"Start Year\", \"ISO\"]).aggregate({\"Disaster Type\":\"count\", \"No Affected\": \"sum\", \"Total Damages ('000 US$)\":\"sum\"})\n",
    "nb_storms_by_year_by_country = nb_storms_by_year_by_country.reset_index()\n",
    "nb_storms_by_year_by_country = nb_storms_by_year_by_country.rename(columns={\"Start Year\": \"year\", \"Disaster Type\": \"storms_count\", \"No Affected\": \"total_nb_affected\", \"Total Damages ('000 US$)\": \"total_damages\"})"
   ]
  },
  {
   "cell_type": "code",
   "execution_count": 18,
   "metadata": {},
   "outputs": [],
   "source": [
    "nb_storms_by_year_by_country[\"decade\"] = nb_storms_by_year_by_country[\"year\"].apply(lambda row: (row//10)*10)\n",
    "nb_storms_by_decade_by_country = nb_storms_by_year_by_country.groupby([\"decade\", \"ISO\"]).aggregate({\"storms_count\":\"sum\", \"total_nb_affected\":\"sum\", \"total_damages\":\"sum\"})\n",
    "nb_storms_by_decade_by_country = nb_storms_by_decade_by_country.reset_index()"
   ]
  },
  {
   "cell_type": "code",
   "execution_count": 20,
   "metadata": {},
   "outputs": [
    {
     "data": {
      "text/html": [
       "<div>\n",
       "<style scoped>\n",
       "    .dataframe tbody tr th:only-of-type {\n",
       "        vertical-align: middle;\n",
       "    }\n",
       "\n",
       "    .dataframe tbody tr th {\n",
       "        vertical-align: top;\n",
       "    }\n",
       "\n",
       "    .dataframe thead th {\n",
       "        text-align: right;\n",
       "    }\n",
       "</style>\n",
       "<table border=\"1\" class=\"dataframe\">\n",
       "  <thead>\n",
       "    <tr style=\"text-align: right;\">\n",
       "      <th></th>\n",
       "      <th>decade</th>\n",
       "      <th>ISO</th>\n",
       "      <th>storms_count</th>\n",
       "      <th>total_nb_affected</th>\n",
       "      <th>total_damages</th>\n",
       "    </tr>\n",
       "  </thead>\n",
       "  <tbody>\n",
       "    <tr>\n",
       "      <td>0</td>\n",
       "      <td>1900</td>\n",
       "      <td>BGD</td>\n",
       "      <td>3</td>\n",
       "      <td>0.0</td>\n",
       "      <td>0.0</td>\n",
       "    </tr>\n",
       "    <tr>\n",
       "      <td>1</td>\n",
       "      <td>1900</td>\n",
       "      <td>HKG</td>\n",
       "      <td>1</td>\n",
       "      <td>0.0</td>\n",
       "      <td>20000.0</td>\n",
       "    </tr>\n",
       "    <tr>\n",
       "      <td>2</td>\n",
       "      <td>1900</td>\n",
       "      <td>HTI</td>\n",
       "      <td>1</td>\n",
       "      <td>0.0</td>\n",
       "      <td>0.0</td>\n",
       "    </tr>\n",
       "    <tr>\n",
       "      <td>3</td>\n",
       "      <td>1900</td>\n",
       "      <td>JAM</td>\n",
       "      <td>1</td>\n",
       "      <td>0.0</td>\n",
       "      <td>0.0</td>\n",
       "    </tr>\n",
       "    <tr>\n",
       "      <td>4</td>\n",
       "      <td>1900</td>\n",
       "      <td>MMR</td>\n",
       "      <td>1</td>\n",
       "      <td>0.0</td>\n",
       "      <td>0.0</td>\n",
       "    </tr>\n",
       "  </tbody>\n",
       "</table>\n",
       "</div>"
      ],
      "text/plain": [
       "   decade  ISO  storms_count  total_nb_affected  total_damages\n",
       "0    1900  BGD             3                0.0            0.0\n",
       "1    1900  HKG             1                0.0        20000.0\n",
       "2    1900  HTI             1                0.0            0.0\n",
       "3    1900  JAM             1                0.0            0.0\n",
       "4    1900  MMR             1                0.0            0.0"
      ]
     },
     "execution_count": 20,
     "metadata": {},
     "output_type": "execute_result"
    }
   ],
   "source": [
    "nb_storms_by_decade_by_country.head()"
   ]
  },
  {
   "cell_type": "code",
   "execution_count": 21,
   "metadata": {},
   "outputs": [
    {
     "data": {
      "text/plain": [
       "2020"
      ]
     },
     "execution_count": 21,
     "metadata": {},
     "output_type": "execute_result"
    }
   ],
   "source": [
    "max(nb_storms_by_decade_by_country[\"decade\"])"
   ]
  },
  {
   "cell_type": "markdown",
   "metadata": {},
   "source": [
    "# Filter on nb_storms_by_decade_by_country decade 2020"
   ]
  },
  {
   "cell_type": "code",
   "execution_count": 27,
   "metadata": {},
   "outputs": [],
   "source": [
    "nb_storms_by_decade_by_country_2020 = nb_storms_by_decade_by_country[nb_storms_by_decade_by_country[\"decade\"]>=2000]"
   ]
  },
  {
   "cell_type": "code",
   "execution_count": 28,
   "metadata": {},
   "outputs": [
    {
     "data": {
      "text/html": [
       "<div>\n",
       "<style scoped>\n",
       "    .dataframe tbody tr th:only-of-type {\n",
       "        vertical-align: middle;\n",
       "    }\n",
       "\n",
       "    .dataframe tbody tr th {\n",
       "        vertical-align: top;\n",
       "    }\n",
       "\n",
       "    .dataframe thead th {\n",
       "        text-align: right;\n",
       "    }\n",
       "</style>\n",
       "<table border=\"1\" class=\"dataframe\">\n",
       "  <thead>\n",
       "    <tr style=\"text-align: right;\">\n",
       "      <th></th>\n",
       "      <th>decade</th>\n",
       "      <th>ISO</th>\n",
       "      <th>storms_count</th>\n",
       "      <th>total_nb_affected</th>\n",
       "      <th>total_damages</th>\n",
       "    </tr>\n",
       "  </thead>\n",
       "  <tbody>\n",
       "    <tr>\n",
       "      <td>486</td>\n",
       "      <td>2000</td>\n",
       "      <td>AFG</td>\n",
       "      <td>3</td>\n",
       "      <td>22656.0</td>\n",
       "      <td>5000.0</td>\n",
       "    </tr>\n",
       "    <tr>\n",
       "      <td>487</td>\n",
       "      <td>2000</td>\n",
       "      <td>ALB</td>\n",
       "      <td>2</td>\n",
       "      <td>525000.0</td>\n",
       "      <td>0.0</td>\n",
       "    </tr>\n",
       "    <tr>\n",
       "      <td>488</td>\n",
       "      <td>2000</td>\n",
       "      <td>ARG</td>\n",
       "      <td>8</td>\n",
       "      <td>6400.0</td>\n",
       "      <td>15000.0</td>\n",
       "    </tr>\n",
       "    <tr>\n",
       "      <td>489</td>\n",
       "      <td>2000</td>\n",
       "      <td>ASM</td>\n",
       "      <td>2</td>\n",
       "      <td>20000.0</td>\n",
       "      <td>150000.0</td>\n",
       "    </tr>\n",
       "    <tr>\n",
       "      <td>490</td>\n",
       "      <td>2000</td>\n",
       "      <td>ATG</td>\n",
       "      <td>1</td>\n",
       "      <td>25800.0</td>\n",
       "      <td>0.0</td>\n",
       "    </tr>\n",
       "  </tbody>\n",
       "</table>\n",
       "</div>"
      ],
      "text/plain": [
       "     decade  ISO  storms_count  total_nb_affected  total_damages\n",
       "486    2000  AFG             3            22656.0         5000.0\n",
       "487    2000  ALB             2           525000.0            0.0\n",
       "488    2000  ARG             8             6400.0        15000.0\n",
       "489    2000  ASM             2            20000.0       150000.0\n",
       "490    2000  ATG             1            25800.0            0.0"
      ]
     },
     "execution_count": 28,
     "metadata": {},
     "output_type": "execute_result"
    }
   ],
   "source": [
    "nb_storms_by_decade_by_country_2020.head()"
   ]
  },
  {
   "cell_type": "code",
   "execution_count": 29,
   "metadata": {},
   "outputs": [
    {
     "data": {
      "text/plain": [
       "(333, 5)"
      ]
     },
     "execution_count": 29,
     "metadata": {},
     "output_type": "execute_result"
    }
   ],
   "source": [
    "nb_storms_by_decade_by_country_2020.shape"
   ]
  },
  {
   "cell_type": "code",
   "execution_count": 30,
   "metadata": {},
   "outputs": [
    {
     "data": {
      "text/plain": [
       "Index(['decade', 'ISO', 'storms_count', 'total_nb_affected', 'total_damages'], dtype='object')"
      ]
     },
     "execution_count": 30,
     "metadata": {},
     "output_type": "execute_result"
    }
   ],
   "source": [
    "nb_storms_by_decade_by_country_2020.columns"
   ]
  },
  {
   "cell_type": "code",
   "execution_count": 31,
   "metadata": {},
   "outputs": [
    {
     "data": {
      "text/plain": [
       "Index(['COUNTRY', 'ISO3', 'Earthquake', 'Flood', 'Tsunami', 'Tropical Cyclone',\n",
       "       'Drought', 'Epidemic', 'Natural', 'Projected Conflict Risk',\n",
       "       'Current Highly Violent Conflict Intensity', 'Human',\n",
       "       'HAZARD & EXPOSURE', 'Development & Deprivation', 'Inequality',\n",
       "       'Economic Dependency', 'Socio-Economic Vulnerability',\n",
       "       'Uprooted people', 'Health Conditions', 'Children U5', 'Recent Shocks',\n",
       "       'Food Security', 'Other Vulnerable Groups', 'Vulnerable Groups',\n",
       "       'VULNERABILITY', 'DRR', 'Governance', 'Institutional', 'Communication',\n",
       "       'Physical infrastructure', 'Access to health care', 'Infrastructure',\n",
       "       'LACK OF COPING CAPACITY', 'INFORM RISK', 'RISK CLASS', 'Rank',\n",
       "       'Lack of Reliability (*)', 'Number of Missing Indicators',\n",
       "       '% of Missing Indicators', 'Countries in HVC',\n",
       "       'Recentness data (average years)'],\n",
       "      dtype='object', name=0)"
      ]
     },
     "execution_count": 31,
     "metadata": {},
     "output_type": "execute_result"
    }
   ],
   "source": [
    "inform_df.columns"
   ]
  },
  {
   "cell_type": "code",
   "execution_count": null,
   "metadata": {},
   "outputs": [],
   "source": [
    "# Merge on ISO"
   ]
  },
  {
   "cell_type": "code",
   "execution_count": 32,
   "metadata": {},
   "outputs": [],
   "source": [
    "nb_storms_by_decade_by_country_2020_with_inform = pd.merge(nb_storms_by_decade_by_country_2020, inform_df, how=\"left\", left_on=\"ISO\", right_on=\"ISO3\")"
   ]
  },
  {
   "cell_type": "code",
   "execution_count": 33,
   "metadata": {},
   "outputs": [
    {
     "data": {
      "text/html": [
       "<div>\n",
       "<style scoped>\n",
       "    .dataframe tbody tr th:only-of-type {\n",
       "        vertical-align: middle;\n",
       "    }\n",
       "\n",
       "    .dataframe tbody tr th {\n",
       "        vertical-align: top;\n",
       "    }\n",
       "\n",
       "    .dataframe thead th {\n",
       "        text-align: right;\n",
       "    }\n",
       "</style>\n",
       "<table border=\"1\" class=\"dataframe\">\n",
       "  <thead>\n",
       "    <tr style=\"text-align: right;\">\n",
       "      <th></th>\n",
       "      <th>decade</th>\n",
       "      <th>ISO</th>\n",
       "      <th>storms_count</th>\n",
       "      <th>total_nb_affected</th>\n",
       "      <th>total_damages</th>\n",
       "      <th>COUNTRY</th>\n",
       "      <th>ISO3</th>\n",
       "      <th>Earthquake</th>\n",
       "      <th>Flood</th>\n",
       "      <th>Tsunami</th>\n",
       "      <th>...</th>\n",
       "      <th>Infrastructure</th>\n",
       "      <th>LACK OF COPING CAPACITY</th>\n",
       "      <th>INFORM RISK</th>\n",
       "      <th>RISK CLASS</th>\n",
       "      <th>Rank</th>\n",
       "      <th>Lack of Reliability (*)</th>\n",
       "      <th>Number of Missing Indicators</th>\n",
       "      <th>% of Missing Indicators</th>\n",
       "      <th>Countries in HVC</th>\n",
       "      <th>Recentness data (average years)</th>\n",
       "    </tr>\n",
       "  </thead>\n",
       "  <tbody>\n",
       "    <tr>\n",
       "      <td>0</td>\n",
       "      <td>2000</td>\n",
       "      <td>AFG</td>\n",
       "      <td>3</td>\n",
       "      <td>22656.0</td>\n",
       "      <td>5000.0</td>\n",
       "      <td>Afghanistan</td>\n",
       "      <td>AFG</td>\n",
       "      <td>9.7</td>\n",
       "      <td>7.2</td>\n",
       "      <td>0</td>\n",
       "      <td>...</td>\n",
       "      <td>7.3</td>\n",
       "      <td>7.3</td>\n",
       "      <td>8.1</td>\n",
       "      <td>Very High</td>\n",
       "      <td>2</td>\n",
       "      <td>2.77477</td>\n",
       "      <td>4</td>\n",
       "      <td>0.0784314</td>\n",
       "      <td>YES</td>\n",
       "      <td>0.216216</td>\n",
       "    </tr>\n",
       "    <tr>\n",
       "      <td>1</td>\n",
       "      <td>2000</td>\n",
       "      <td>ALB</td>\n",
       "      <td>2</td>\n",
       "      <td>525000.0</td>\n",
       "      <td>0.0</td>\n",
       "      <td>Albania</td>\n",
       "      <td>ALB</td>\n",
       "      <td>9.3</td>\n",
       "      <td>4.7</td>\n",
       "      <td>7.8</td>\n",
       "      <td>...</td>\n",
       "      <td>2.1</td>\n",
       "      <td>4.1</td>\n",
       "      <td>2.9</td>\n",
       "      <td>Low</td>\n",
       "      <td>120</td>\n",
       "      <td>3.68627</td>\n",
       "      <td>10</td>\n",
       "      <td>0.196078</td>\n",
       "      <td>NaN</td>\n",
       "      <td>0.191176</td>\n",
       "    </tr>\n",
       "    <tr>\n",
       "      <td>2</td>\n",
       "      <td>2000</td>\n",
       "      <td>ARG</td>\n",
       "      <td>8</td>\n",
       "      <td>6400.0</td>\n",
       "      <td>15000.0</td>\n",
       "      <td>Argentina</td>\n",
       "      <td>ARG</td>\n",
       "      <td>6.7</td>\n",
       "      <td>6.5</td>\n",
       "      <td>0</td>\n",
       "      <td>...</td>\n",
       "      <td>2</td>\n",
       "      <td>3.4</td>\n",
       "      <td>2.6</td>\n",
       "      <td>Low</td>\n",
       "      <td>126</td>\n",
       "      <td>2.85926</td>\n",
       "      <td>6</td>\n",
       "      <td>0.117647</td>\n",
       "      <td>NaN</td>\n",
       "      <td>0.236111</td>\n",
       "    </tr>\n",
       "    <tr>\n",
       "      <td>3</td>\n",
       "      <td>2000</td>\n",
       "      <td>ASM</td>\n",
       "      <td>2</td>\n",
       "      <td>20000.0</td>\n",
       "      <td>150000.0</td>\n",
       "      <td>NaN</td>\n",
       "      <td>NaN</td>\n",
       "      <td>NaN</td>\n",
       "      <td>NaN</td>\n",
       "      <td>NaN</td>\n",
       "      <td>...</td>\n",
       "      <td>NaN</td>\n",
       "      <td>NaN</td>\n",
       "      <td>NaN</td>\n",
       "      <td>NaN</td>\n",
       "      <td>NaN</td>\n",
       "      <td>NaN</td>\n",
       "      <td>NaN</td>\n",
       "      <td>NaN</td>\n",
       "      <td>NaN</td>\n",
       "      <td>NaN</td>\n",
       "    </tr>\n",
       "    <tr>\n",
       "      <td>4</td>\n",
       "      <td>2000</td>\n",
       "      <td>ATG</td>\n",
       "      <td>1</td>\n",
       "      <td>25800.0</td>\n",
       "      <td>0.0</td>\n",
       "      <td>Antigua and Barbuda</td>\n",
       "      <td>ATG</td>\n",
       "      <td>5.2</td>\n",
       "      <td>0.1</td>\n",
       "      <td>0</td>\n",
       "      <td>...</td>\n",
       "      <td>1.4</td>\n",
       "      <td>3.5</td>\n",
       "      <td>2.2</td>\n",
       "      <td>Low</td>\n",
       "      <td>147</td>\n",
       "      <td>4.94624</td>\n",
       "      <td>19</td>\n",
       "      <td>0.372549</td>\n",
       "      <td>NaN</td>\n",
       "      <td>0.177419</td>\n",
       "    </tr>\n",
       "  </tbody>\n",
       "</table>\n",
       "<p>5 rows × 46 columns</p>\n",
       "</div>"
      ],
      "text/plain": [
       "   decade  ISO  storms_count  total_nb_affected  total_damages  \\\n",
       "0    2000  AFG             3            22656.0         5000.0   \n",
       "1    2000  ALB             2           525000.0            0.0   \n",
       "2    2000  ARG             8             6400.0        15000.0   \n",
       "3    2000  ASM             2            20000.0       150000.0   \n",
       "4    2000  ATG             1            25800.0            0.0   \n",
       "\n",
       "               COUNTRY ISO3 Earthquake Flood Tsunami  ... Infrastructure  \\\n",
       "0          Afghanistan  AFG        9.7   7.2       0  ...            7.3   \n",
       "1              Albania  ALB        9.3   4.7     7.8  ...            2.1   \n",
       "2            Argentina  ARG        6.7   6.5       0  ...              2   \n",
       "3                  NaN  NaN        NaN   NaN     NaN  ...            NaN   \n",
       "4  Antigua and Barbuda  ATG        5.2   0.1       0  ...            1.4   \n",
       "\n",
       "  LACK OF COPING CAPACITY INFORM RISK RISK CLASS Rank Lack of Reliability (*)  \\\n",
       "0                     7.3         8.1  Very High    2                 2.77477   \n",
       "1                     4.1         2.9        Low  120                 3.68627   \n",
       "2                     3.4         2.6        Low  126                 2.85926   \n",
       "3                     NaN         NaN        NaN  NaN                     NaN   \n",
       "4                     3.5         2.2        Low  147                 4.94624   \n",
       "\n",
       "  Number of Missing Indicators % of Missing Indicators Countries in HVC  \\\n",
       "0                            4               0.0784314              YES   \n",
       "1                           10                0.196078              NaN   \n",
       "2                            6                0.117647              NaN   \n",
       "3                          NaN                     NaN              NaN   \n",
       "4                           19                0.372549              NaN   \n",
       "\n",
       "  Recentness data (average years)  \n",
       "0                        0.216216  \n",
       "1                        0.191176  \n",
       "2                        0.236111  \n",
       "3                             NaN  \n",
       "4                        0.177419  \n",
       "\n",
       "[5 rows x 46 columns]"
      ]
     },
     "execution_count": 33,
     "metadata": {},
     "output_type": "execute_result"
    }
   ],
   "source": [
    "nb_storms_by_decade_by_country_2020_with_inform.head()"
   ]
  },
  {
   "cell_type": "code",
   "execution_count": 34,
   "metadata": {},
   "outputs": [
    {
     "data": {
      "text/plain": [
       "(333, 46)"
      ]
     },
     "execution_count": 34,
     "metadata": {},
     "output_type": "execute_result"
    }
   ],
   "source": [
    "nb_storms_by_decade_by_country_2020_with_inform.shape"
   ]
  },
  {
   "cell_type": "code",
   "execution_count": 45,
   "metadata": {},
   "outputs": [],
   "source": [
    "nb_storms_by_decade_by_country_2020_with_inform_filt_col = nb_storms_by_decade_by_country_2020_with_inform[[\"decade\", \"ISO\", \"storms_count\", \"total_nb_affected\", \"total_damages\",\"INFORM RISK\"]]"
   ]
  },
  {
   "cell_type": "code",
   "execution_count": 46,
   "metadata": {},
   "outputs": [
    {
     "data": {
      "text/plain": [
       "decade                 int64\n",
       "ISO                   object\n",
       "storms_count           int64\n",
       "total_nb_affected    float64\n",
       "total_damages        float64\n",
       "INFORM RISK           object\n",
       "dtype: object"
      ]
     },
     "execution_count": 46,
     "metadata": {},
     "output_type": "execute_result"
    }
   ],
   "source": [
    "nb_storms_by_decade_by_country_2020_with_inform_filt_col.dtypes"
   ]
  },
  {
   "cell_type": "code",
   "execution_count": 47,
   "metadata": {},
   "outputs": [
    {
     "name": "stderr",
     "output_type": "stream",
     "text": [
      "C:\\Users\\clotilde.pety\\AppData\\Local\\Continuum\\anaconda3\\lib\\site-packages\\ipykernel_launcher.py:1: SettingWithCopyWarning: \n",
      "A value is trying to be set on a copy of a slice from a DataFrame.\n",
      "Try using .loc[row_indexer,col_indexer] = value instead\n",
      "\n",
      "See the caveats in the documentation: http://pandas.pydata.org/pandas-docs/stable/user_guide/indexing.html#returning-a-view-versus-a-copy\n",
      "  \"\"\"Entry point for launching an IPython kernel.\n"
     ]
    }
   ],
   "source": [
    "nb_storms_by_decade_by_country_2020_with_inform_filt_col[\"INFORM RISK\"] = nb_storms_by_decade_by_country_2020_with_inform_filt_col[\"INFORM RISK\"].astype(\"float\")"
   ]
  },
  {
   "cell_type": "code",
   "execution_count": 48,
   "metadata": {},
   "outputs": [
    {
     "data": {
      "text/html": [
       "<div>\n",
       "<style scoped>\n",
       "    .dataframe tbody tr th:only-of-type {\n",
       "        vertical-align: middle;\n",
       "    }\n",
       "\n",
       "    .dataframe tbody tr th {\n",
       "        vertical-align: top;\n",
       "    }\n",
       "\n",
       "    .dataframe thead th {\n",
       "        text-align: right;\n",
       "    }\n",
       "</style>\n",
       "<table border=\"1\" class=\"dataframe\">\n",
       "  <thead>\n",
       "    <tr style=\"text-align: right;\">\n",
       "      <th></th>\n",
       "      <th>decade</th>\n",
       "      <th>ISO</th>\n",
       "      <th>storms_count</th>\n",
       "      <th>total_nb_affected</th>\n",
       "      <th>total_damages</th>\n",
       "      <th>INFORM RISK</th>\n",
       "    </tr>\n",
       "  </thead>\n",
       "  <tbody>\n",
       "    <tr>\n",
       "      <td>0</td>\n",
       "      <td>2000</td>\n",
       "      <td>AFG</td>\n",
       "      <td>3</td>\n",
       "      <td>22656.0</td>\n",
       "      <td>5000.0</td>\n",
       "      <td>8.1</td>\n",
       "    </tr>\n",
       "    <tr>\n",
       "      <td>1</td>\n",
       "      <td>2000</td>\n",
       "      <td>ALB</td>\n",
       "      <td>2</td>\n",
       "      <td>525000.0</td>\n",
       "      <td>0.0</td>\n",
       "      <td>2.9</td>\n",
       "    </tr>\n",
       "    <tr>\n",
       "      <td>2</td>\n",
       "      <td>2000</td>\n",
       "      <td>ARG</td>\n",
       "      <td>8</td>\n",
       "      <td>6400.0</td>\n",
       "      <td>15000.0</td>\n",
       "      <td>2.6</td>\n",
       "    </tr>\n",
       "    <tr>\n",
       "      <td>3</td>\n",
       "      <td>2000</td>\n",
       "      <td>ASM</td>\n",
       "      <td>2</td>\n",
       "      <td>20000.0</td>\n",
       "      <td>150000.0</td>\n",
       "      <td>NaN</td>\n",
       "    </tr>\n",
       "    <tr>\n",
       "      <td>4</td>\n",
       "      <td>2000</td>\n",
       "      <td>ATG</td>\n",
       "      <td>1</td>\n",
       "      <td>25800.0</td>\n",
       "      <td>0.0</td>\n",
       "      <td>2.2</td>\n",
       "    </tr>\n",
       "  </tbody>\n",
       "</table>\n",
       "</div>"
      ],
      "text/plain": [
       "   decade  ISO  storms_count  total_nb_affected  total_damages  INFORM RISK\n",
       "0    2000  AFG             3            22656.0         5000.0          8.1\n",
       "1    2000  ALB             2           525000.0            0.0          2.9\n",
       "2    2000  ARG             8             6400.0        15000.0          2.6\n",
       "3    2000  ASM             2            20000.0       150000.0          NaN\n",
       "4    2000  ATG             1            25800.0            0.0          2.2"
      ]
     },
     "execution_count": 48,
     "metadata": {},
     "output_type": "execute_result"
    }
   ],
   "source": [
    "nb_storms_by_decade_by_country_2020_with_inform_filt_col.head()"
   ]
  },
  {
   "cell_type": "code",
   "execution_count": 49,
   "metadata": {},
   "outputs": [
    {
     "data": {
      "image/png": "[encoded data removed]",
      "text/plain": [
       "<Figure size 432x288 with 2 Axes>"
      ]
     },
     "metadata": {
      "needs_background": "light"
     },
     "output_type": "display_data"
    }
   ],
   "source": [
    "corr = nb_storms_by_decade_by_country_2020_with_inform_filt_col.corr()\n",
    "sm.graphics.plot_corr(corr, xnames=list(corr.columns))\n",
    "plt.show()"
   ]
  },
  {
   "cell_type": "markdown",
   "metadata": {},
   "source": [
    "# Sur un échantillon plus petit"
   ]
  },
  {
   "cell_type": "code",
   "execution_count": 50,
   "metadata": {},
   "outputs": [],
   "source": [
    "nb_storms_inform_by_country_2020_only = nb_storms_by_decade_by_country_2020_with_inform_filt_col[nb_storms_by_decade_by_country_2020_with_inform_filt_col[\"decade\"]==2020]"
   ]
  },
  {
   "cell_type": "code",
   "execution_count": 51,
   "metadata": {},
   "outputs": [
    {
     "data": {
      "text/html": [
       "<div>\n",
       "<style scoped>\n",
       "    .dataframe tbody tr th:only-of-type {\n",
       "        vertical-align: middle;\n",
       "    }\n",
       "\n",
       "    .dataframe tbody tr th {\n",
       "        vertical-align: top;\n",
       "    }\n",
       "\n",
       "    .dataframe thead th {\n",
       "        text-align: right;\n",
       "    }\n",
       "</style>\n",
       "<table border=\"1\" class=\"dataframe\">\n",
       "  <thead>\n",
       "    <tr style=\"text-align: right;\">\n",
       "      <th></th>\n",
       "      <th>decade</th>\n",
       "      <th>ISO</th>\n",
       "      <th>storms_count</th>\n",
       "      <th>total_nb_affected</th>\n",
       "      <th>total_damages</th>\n",
       "      <th>INFORM RISK</th>\n",
       "    </tr>\n",
       "  </thead>\n",
       "  <tbody>\n",
       "    <tr>\n",
       "      <td>294</td>\n",
       "      <td>2020</td>\n",
       "      <td>AFG</td>\n",
       "      <td>1</td>\n",
       "      <td>7441.0</td>\n",
       "      <td>0.0</td>\n",
       "      <td>8.1</td>\n",
       "    </tr>\n",
       "    <tr>\n",
       "      <td>295</td>\n",
       "      <td>2020</td>\n",
       "      <td>AUS</td>\n",
       "      <td>1</td>\n",
       "      <td>0.0</td>\n",
       "      <td>430000.0</td>\n",
       "      <td>2.4</td>\n",
       "    </tr>\n",
       "    <tr>\n",
       "      <td>296</td>\n",
       "      <td>2020</td>\n",
       "      <td>BEL</td>\n",
       "      <td>1</td>\n",
       "      <td>0.0</td>\n",
       "      <td>0.0</td>\n",
       "      <td>1.9</td>\n",
       "    </tr>\n",
       "    <tr>\n",
       "      <td>297</td>\n",
       "      <td>2020</td>\n",
       "      <td>BGD</td>\n",
       "      <td>1</td>\n",
       "      <td>1100000.0</td>\n",
       "      <td>1500000.0</td>\n",
       "      <td>5.8</td>\n",
       "    </tr>\n",
       "    <tr>\n",
       "      <td>298</td>\n",
       "      <td>2020</td>\n",
       "      <td>BRA</td>\n",
       "      <td>1</td>\n",
       "      <td>1119.0</td>\n",
       "      <td>0.0</td>\n",
       "      <td>4.8</td>\n",
       "    </tr>\n",
       "  </tbody>\n",
       "</table>\n",
       "</div>"
      ],
      "text/plain": [
       "     decade  ISO  storms_count  total_nb_affected  total_damages  INFORM RISK\n",
       "294    2020  AFG             1             7441.0            0.0          8.1\n",
       "295    2020  AUS             1                0.0       430000.0          2.4\n",
       "296    2020  BEL             1                0.0            0.0          1.9\n",
       "297    2020  BGD             1          1100000.0      1500000.0          5.8\n",
       "298    2020  BRA             1             1119.0            0.0          4.8"
      ]
     },
     "execution_count": 51,
     "metadata": {},
     "output_type": "execute_result"
    }
   ],
   "source": [
    "nb_storms_inform_by_country_2020_only.head()"
   ]
  },
  {
   "cell_type": "code",
   "execution_count": 53,
   "metadata": {},
   "outputs": [
    {
     "data": {
      "image/png": "[encoded data removed]",
      "text/plain": [
       "<Figure size 432x288 with 2 Axes>"
      ]
     },
     "metadata": {
      "needs_background": "light"
     },
     "output_type": "display_data"
    }
   ],
   "source": [
    "nb_storms_inform_by_country_2020_only_cor = nb_storms_inform_by_country_2020_only[[\"ISO\", \"storms_count\", \"total_nb_affected\", \"total_damages\",\"INFORM RISK\"]]\n",
    "corr = nb_storms_inform_by_country_2020_only_cor.corr()\n",
    "sm.graphics.plot_corr(corr, xnames=list(corr.columns))\n",
    "plt.show()"
   ]
  },
  {
   "cell_type": "code",
   "execution_count": null,
   "metadata": {},
   "outputs": [],
   "source": []
  }
 ],
 "metadata": {
  "kernelspec": {
   "display_name": "Python 3",
   "language": "python",
   "name": "python3"
  },
  "language_info": {
   "codemirror_mode": {
    "name": "ipython",
    "version": 3
   },
   "file_extension": ".py",
   "mimetype": "text/x-python",
   "name": "python",
   "nbconvert_exporter": "python",
   "pygments_lexer": "ipython3",
   "version": "3.7.4"
  }
 },
 "nbformat": 4,
 "nbformat_minor": 2
}
